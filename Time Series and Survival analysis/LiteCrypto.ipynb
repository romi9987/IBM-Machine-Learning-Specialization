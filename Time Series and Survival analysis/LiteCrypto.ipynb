{
 "cells": [
  {
   "cell_type": "markdown",
   "metadata": {},
   "source": [
    "# IBM Time Series and Survival Analysis Capstone Project"
   ]
  },
  {
   "cell_type": "markdown",
   "metadata": {
    "id": "H2P0t86QpltQ"
   },
   "source": [
    "## Introduction\n",
    "\n",
    "Litecoin is a peer-to-peer Internet currency that enables instant, near-zero cost payments to anyone in the world. Litecoin is an open source, global payment network that is fully decentralized without any central authorities. Mathematics secures the network and empowers individuals to control their own finances. Litecoin features faster transaction confirmation times and improved storage efficiency than the leading math-based currency. With substantial industry support, trade volume and liquidity, Litecoin is a proven medium of commerce complementary to Bitcoin.\n",
    "\n",
    "This notebook demonstrates the prediction of the litecoin price by the neural network model. We are using both long short term memory (LSTM) and recurrent neural network (RNN) algorithms, to find the one that suits the problem better.\n"
   ]
  },
  {
   "cell_type": "markdown",
   "metadata": {
    "id": "fjNc3h8ssGKA"
   },
   "source": [
    "## Dataset\n",
    "\n",
    "Litecoin cryptocurrency data were retrieved from [Yahoo Finance](https://in.finance.yahoo.com/quote/LTC-USD/history?p=LTC-USD&.tsrc=fin-srch)\n",
    "\n",
    "- Date: date of observation\n",
    "- Open: Opening price on the given day\n",
    "- High: Highest price on the given day\n",
    "- Close: Closing price on the given day\n",
    "- Adjusted Close: Is the closing price after adjustments for all applicable splits and dividend distributions\n",
    "- Volume: Volume of transactions on the given date\n"
   ]
  },
  {
   "cell_type": "code",
   "execution_count": 1,
   "metadata": {
    "colab": {
     "base_uri": "https://localhost:8080/"
    },
    "id": "ekvzQXksIIpI",
    "outputId": "ad32f55b-de34-4e49-ee75-5613e293427d"
   },
   "outputs": [
    {
     "name": "stdout",
     "output_type": "stream",
     "text": [
      "Drive already mounted at /content/drive; to attempt to forcibly remount, call drive.mount(\"/content/drive\", force_remount=True).\n"
     ]
    }
   ],
   "source": [
    "from google.colab import drive\n",
    "drive.mount('/content/drive')"
   ]
  },
  {
   "cell_type": "code",
   "execution_count": 2,
   "metadata": {
    "id": "RDBaIx9KJG00"
   },
   "outputs": [],
   "source": [
    "import numpy as np\n",
    "import pandas as pd\n",
    "import matplotlib.pyplot as plt\n",
    "import keras\n",
    "from sklearn.preprocessing import MinMaxScaler\n",
    "\n",
    "%matplotlib inline"
   ]
  },
  {
   "cell_type": "code",
   "execution_count": 3,
   "metadata": {
    "id": "_LIrS2XVKHDw"
   },
   "outputs": [],
   "source": [
    "Litecoin = pd.read_csv('/content/drive/MyDrive/LTC-USD.csv')"
   ]
  },
  {
   "cell_type": "markdown",
   "metadata": {
    "id": "hQoCrBPHpUDk"
   },
   "source": [
    "## Data preparation"
   ]
  },
  {
   "cell_type": "code",
   "execution_count": 4,
   "metadata": {
    "colab": {
     "base_uri": "https://localhost:8080/",
     "height": 206
    },
    "id": "o68Ok0BzTk5M",
    "outputId": "7d9bde49-3e2d-47e4-ce83-8271e857e774"
   },
   "outputs": [
    {
     "data": {
      "text/html": [
       "<div>\n",
       "<style scoped>\n",
       "    .dataframe tbody tr th:only-of-type {\n",
       "        vertical-align: middle;\n",
       "    }\n",
       "\n",
       "    .dataframe tbody tr th {\n",
       "        vertical-align: top;\n",
       "    }\n",
       "\n",
       "    .dataframe thead th {\n",
       "        text-align: right;\n",
       "    }\n",
       "</style>\n",
       "<table border=\"1\" class=\"dataframe\">\n",
       "  <thead>\n",
       "    <tr style=\"text-align: right;\">\n",
       "      <th></th>\n",
       "      <th>Date</th>\n",
       "      <th>Open</th>\n",
       "      <th>High</th>\n",
       "      <th>Low</th>\n",
       "      <th>Close</th>\n",
       "      <th>Adj Close</th>\n",
       "      <th>Volume</th>\n",
       "    </tr>\n",
       "  </thead>\n",
       "  <tbody>\n",
       "    <tr>\n",
       "      <th>1822</th>\n",
       "      <td>2021-05-02</td>\n",
       "      <td>276.960419</td>\n",
       "      <td>277.483459</td>\n",
       "      <td>265.335724</td>\n",
       "      <td>269.104370</td>\n",
       "      <td>269.104370</td>\n",
       "      <td>3.118501e+09</td>\n",
       "    </tr>\n",
       "    <tr>\n",
       "      <th>1823</th>\n",
       "      <td>2021-05-03</td>\n",
       "      <td>269.008301</td>\n",
       "      <td>299.300537</td>\n",
       "      <td>268.728973</td>\n",
       "      <td>294.704010</td>\n",
       "      <td>294.704010</td>\n",
       "      <td>5.172505e+09</td>\n",
       "    </tr>\n",
       "    <tr>\n",
       "      <th>1824</th>\n",
       "      <td>2021-05-04</td>\n",
       "      <td>294.774261</td>\n",
       "      <td>326.888672</td>\n",
       "      <td>275.464966</td>\n",
       "      <td>306.234497</td>\n",
       "      <td>306.234497</td>\n",
       "      <td>1.154125e+10</td>\n",
       "    </tr>\n",
       "    <tr>\n",
       "      <th>1825</th>\n",
       "      <td>2021-05-05</td>\n",
       "      <td>305.177399</td>\n",
       "      <td>359.500153</td>\n",
       "      <td>301.451569</td>\n",
       "      <td>356.037079</td>\n",
       "      <td>356.037079</td>\n",
       "      <td>1.318354e+10</td>\n",
       "    </tr>\n",
       "    <tr>\n",
       "      <th>1826</th>\n",
       "      <td>2021-05-06</td>\n",
       "      <td>357.893585</td>\n",
       "      <td>362.496399</td>\n",
       "      <td>327.807770</td>\n",
       "      <td>344.669098</td>\n",
       "      <td>344.669098</td>\n",
       "      <td>9.519699e+09</td>\n",
       "    </tr>\n",
       "  </tbody>\n",
       "</table>\n",
       "</div>"
      ],
      "text/plain": [
       "            Date        Open        High  ...       Close   Adj Close        Volume\n",
       "1822  2021-05-02  276.960419  277.483459  ...  269.104370  269.104370  3.118501e+09\n",
       "1823  2021-05-03  269.008301  299.300537  ...  294.704010  294.704010  5.172505e+09\n",
       "1824  2021-05-04  294.774261  326.888672  ...  306.234497  306.234497  1.154125e+10\n",
       "1825  2021-05-05  305.177399  359.500153  ...  356.037079  356.037079  1.318354e+10\n",
       "1826  2021-05-06  357.893585  362.496399  ...  344.669098  344.669098  9.519699e+09\n",
       "\n",
       "[5 rows x 7 columns]"
      ]
     },
     "execution_count": 4,
     "metadata": {
      "tags": []
     },
     "output_type": "execute_result"
    }
   ],
   "source": [
    "Litecoin.tail()"
   ]
  },
  {
   "cell_type": "code",
   "execution_count": 5,
   "metadata": {
    "colab": {
     "base_uri": "https://localhost:8080/"
    },
    "id": "yZ84D8ADXgQs",
    "outputId": "bb48f53c-225f-4edd-adbf-8316462e9e17"
   },
   "outputs": [
    {
     "data": {
      "text/plain": [
       "True"
      ]
     },
     "execution_count": 5,
     "metadata": {
      "tags": []
     },
     "output_type": "execute_result"
    }
   ],
   "source": [
    "Litecoin.isnull().values.any()"
   ]
  },
  {
   "cell_type": "code",
   "execution_count": 6,
   "metadata": {
    "colab": {
     "base_uri": "https://localhost:8080/"
    },
    "id": "Fl-9txTDX4Qo",
    "outputId": "7d5ff13a-bc01-4728-888e-730c85aca5e0"
   },
   "outputs": [
    {
     "data": {
      "text/plain": [
       "24"
      ]
     },
     "execution_count": 6,
     "metadata": {
      "tags": []
     },
     "output_type": "execute_result"
    }
   ],
   "source": [
    "Litecoin.isnull().sum().sum()"
   ]
  },
  {
   "cell_type": "code",
   "execution_count": 7,
   "metadata": {
    "colab": {
     "base_uri": "https://localhost:8080/",
     "height": 175
    },
    "id": "tnMjoZ-jX-JM",
    "outputId": "e483aef5-b9f7-4b14-8afd-5ea0ecaf605e"
   },
   "outputs": [
    {
     "data": {
      "text/html": [
       "<div>\n",
       "<style scoped>\n",
       "    .dataframe tbody tr th:only-of-type {\n",
       "        vertical-align: middle;\n",
       "    }\n",
       "\n",
       "    .dataframe tbody tr th {\n",
       "        vertical-align: top;\n",
       "    }\n",
       "\n",
       "    .dataframe thead th {\n",
       "        text-align: right;\n",
       "    }\n",
       "</style>\n",
       "<table border=\"1\" class=\"dataframe\">\n",
       "  <thead>\n",
       "    <tr style=\"text-align: right;\">\n",
       "      <th></th>\n",
       "      <th>Date</th>\n",
       "      <th>Open</th>\n",
       "      <th>High</th>\n",
       "      <th>Low</th>\n",
       "      <th>Close</th>\n",
       "      <th>Adj Close</th>\n",
       "      <th>Volume</th>\n",
       "    </tr>\n",
       "  </thead>\n",
       "  <tbody>\n",
       "    <tr>\n",
       "      <th>1442</th>\n",
       "      <td>2020-04-17</td>\n",
       "      <td>NaN</td>\n",
       "      <td>NaN</td>\n",
       "      <td>NaN</td>\n",
       "      <td>NaN</td>\n",
       "      <td>NaN</td>\n",
       "      <td>NaN</td>\n",
       "    </tr>\n",
       "    <tr>\n",
       "      <th>1617</th>\n",
       "      <td>2020-10-09</td>\n",
       "      <td>NaN</td>\n",
       "      <td>NaN</td>\n",
       "      <td>NaN</td>\n",
       "      <td>NaN</td>\n",
       "      <td>NaN</td>\n",
       "      <td>NaN</td>\n",
       "    </tr>\n",
       "    <tr>\n",
       "      <th>1620</th>\n",
       "      <td>2020-10-12</td>\n",
       "      <td>NaN</td>\n",
       "      <td>NaN</td>\n",
       "      <td>NaN</td>\n",
       "      <td>NaN</td>\n",
       "      <td>NaN</td>\n",
       "      <td>NaN</td>\n",
       "    </tr>\n",
       "    <tr>\n",
       "      <th>1621</th>\n",
       "      <td>2020-10-13</td>\n",
       "      <td>NaN</td>\n",
       "      <td>NaN</td>\n",
       "      <td>NaN</td>\n",
       "      <td>NaN</td>\n",
       "      <td>NaN</td>\n",
       "      <td>NaN</td>\n",
       "    </tr>\n",
       "  </tbody>\n",
       "</table>\n",
       "</div>"
      ],
      "text/plain": [
       "            Date  Open  High  Low  Close  Adj Close  Volume\n",
       "1442  2020-04-17   NaN   NaN  NaN    NaN        NaN     NaN\n",
       "1617  2020-10-09   NaN   NaN  NaN    NaN        NaN     NaN\n",
       "1620  2020-10-12   NaN   NaN  NaN    NaN        NaN     NaN\n",
       "1621  2020-10-13   NaN   NaN  NaN    NaN        NaN     NaN"
      ]
     },
     "execution_count": 7,
     "metadata": {
      "tags": []
     },
     "output_type": "execute_result"
    }
   ],
   "source": [
    "Litecoin[Litecoin.isnull().any(axis=1)]"
   ]
  },
  {
   "cell_type": "code",
   "execution_count": 8,
   "metadata": {
    "id": "J2Iyb2VRcMEM"
   },
   "outputs": [],
   "source": [
    "Litecoin['Open'] = Litecoin['Open'].interpolate()\n",
    "Litecoin['High'] = Litecoin['High'].interpolate()\n",
    "Litecoin['Low'] = Litecoin['Low'].interpolate()\n",
    "Litecoin['Close'] = Litecoin['Close'].interpolate()\n",
    "Litecoin['Adj Close'] = Litecoin['Adj Close'].interpolate()\n",
    "Litecoin['Volume'] = Litecoin['Volume'].interpolate()"
   ]
  },
  {
   "cell_type": "code",
   "execution_count": 9,
   "metadata": {
    "colab": {
     "base_uri": "https://localhost:8080/"
    },
    "id": "H50gu9l3dGyA",
    "outputId": "166a7b98-2b04-49ab-e634-7c6d7b050a2e"
   },
   "outputs": [
    {
     "data": {
      "text/plain": [
       "0"
      ]
     },
     "execution_count": 9,
     "metadata": {
      "tags": []
     },
     "output_type": "execute_result"
    }
   ],
   "source": [
    "Litecoin.isnull().sum().sum()"
   ]
  },
  {
   "cell_type": "markdown",
   "metadata": {
    "id": "JkUs73QQpbdA"
   },
   "source": [
    "### Dividing the dataset into training and testing splits"
   ]
  },
  {
   "cell_type": "code",
   "execution_count": 10,
   "metadata": {
    "colab": {
     "base_uri": "https://localhost:8080/",
     "height": 424
    },
    "id": "7ee7WZ46KqlM",
    "outputId": "d504bbb6-818c-4f31-b85b-4c99105d2666"
   },
   "outputs": [
    {
     "data": {
      "text/html": [
       "<div>\n",
       "<style scoped>\n",
       "    .dataframe tbody tr th:only-of-type {\n",
       "        vertical-align: middle;\n",
       "    }\n",
       "\n",
       "    .dataframe tbody tr th {\n",
       "        vertical-align: top;\n",
       "    }\n",
       "\n",
       "    .dataframe thead th {\n",
       "        text-align: right;\n",
       "    }\n",
       "</style>\n",
       "<table border=\"1\" class=\"dataframe\">\n",
       "  <thead>\n",
       "    <tr style=\"text-align: right;\">\n",
       "      <th></th>\n",
       "      <th>Date</th>\n",
       "      <th>Open</th>\n",
       "      <th>High</th>\n",
       "      <th>Low</th>\n",
       "      <th>Close</th>\n",
       "      <th>Adj Close</th>\n",
       "      <th>Volume</th>\n",
       "    </tr>\n",
       "  </thead>\n",
       "  <tbody>\n",
       "    <tr>\n",
       "      <th>0</th>\n",
       "      <td>2016-05-06</td>\n",
       "      <td>3.716130</td>\n",
       "      <td>3.822110</td>\n",
       "      <td>3.706000</td>\n",
       "      <td>3.822110</td>\n",
       "      <td>3.822110</td>\n",
       "      <td>1.899060e+06</td>\n",
       "    </tr>\n",
       "    <tr>\n",
       "      <th>1</th>\n",
       "      <td>2016-05-07</td>\n",
       "      <td>3.819520</td>\n",
       "      <td>4.003440</td>\n",
       "      <td>3.819520</td>\n",
       "      <td>3.953450</td>\n",
       "      <td>3.953450</td>\n",
       "      <td>3.278610e+06</td>\n",
       "    </tr>\n",
       "    <tr>\n",
       "      <th>2</th>\n",
       "      <td>2016-05-08</td>\n",
       "      <td>3.936410</td>\n",
       "      <td>3.944110</td>\n",
       "      <td>3.886200</td>\n",
       "      <td>3.938140</td>\n",
       "      <td>3.938140</td>\n",
       "      <td>1.783970e+06</td>\n",
       "    </tr>\n",
       "    <tr>\n",
       "      <th>3</th>\n",
       "      <td>2016-05-09</td>\n",
       "      <td>3.937630</td>\n",
       "      <td>4.083380</td>\n",
       "      <td>3.898630</td>\n",
       "      <td>4.056430</td>\n",
       "      <td>4.056430</td>\n",
       "      <td>3.120940e+06</td>\n",
       "    </tr>\n",
       "    <tr>\n",
       "      <th>4</th>\n",
       "      <td>2016-05-10</td>\n",
       "      <td>4.057970</td>\n",
       "      <td>4.115630</td>\n",
       "      <td>3.798380</td>\n",
       "      <td>3.819150</td>\n",
       "      <td>3.819150</td>\n",
       "      <td>3.688200e+06</td>\n",
       "    </tr>\n",
       "    <tr>\n",
       "      <th>...</th>\n",
       "      <td>...</td>\n",
       "      <td>...</td>\n",
       "      <td>...</td>\n",
       "      <td>...</td>\n",
       "      <td>...</td>\n",
       "      <td>...</td>\n",
       "      <td>...</td>\n",
       "    </tr>\n",
       "    <tr>\n",
       "      <th>1696</th>\n",
       "      <td>2020-12-27</td>\n",
       "      <td>129.456619</td>\n",
       "      <td>138.319717</td>\n",
       "      <td>123.097404</td>\n",
       "      <td>127.516968</td>\n",
       "      <td>127.516968</td>\n",
       "      <td>1.410331e+10</td>\n",
       "    </tr>\n",
       "    <tr>\n",
       "      <th>1697</th>\n",
       "      <td>2020-12-28</td>\n",
       "      <td>127.588303</td>\n",
       "      <td>136.185074</td>\n",
       "      <td>127.071342</td>\n",
       "      <td>130.050339</td>\n",
       "      <td>130.050339</td>\n",
       "      <td>1.024873e+10</td>\n",
       "    </tr>\n",
       "    <tr>\n",
       "      <th>1698</th>\n",
       "      <td>2020-12-29</td>\n",
       "      <td>130.033264</td>\n",
       "      <td>130.608582</td>\n",
       "      <td>121.187202</td>\n",
       "      <td>129.040802</td>\n",
       "      <td>129.040802</td>\n",
       "      <td>9.160551e+09</td>\n",
       "    </tr>\n",
       "    <tr>\n",
       "      <th>1699</th>\n",
       "      <td>2020-12-30</td>\n",
       "      <td>129.061859</td>\n",
       "      <td>132.450119</td>\n",
       "      <td>123.444344</td>\n",
       "      <td>129.466080</td>\n",
       "      <td>129.466080</td>\n",
       "      <td>8.127317e+09</td>\n",
       "    </tr>\n",
       "    <tr>\n",
       "      <th>1700</th>\n",
       "      <td>2020-12-31</td>\n",
       "      <td>129.480286</td>\n",
       "      <td>130.166245</td>\n",
       "      <td>123.036484</td>\n",
       "      <td>124.690323</td>\n",
       "      <td>124.690323</td>\n",
       "      <td>6.274573e+09</td>\n",
       "    </tr>\n",
       "  </tbody>\n",
       "</table>\n",
       "<p>1701 rows × 7 columns</p>\n",
       "</div>"
      ],
      "text/plain": [
       "            Date        Open        High  ...       Close   Adj Close        Volume\n",
       "0     2016-05-06    3.716130    3.822110  ...    3.822110    3.822110  1.899060e+06\n",
       "1     2016-05-07    3.819520    4.003440  ...    3.953450    3.953450  3.278610e+06\n",
       "2     2016-05-08    3.936410    3.944110  ...    3.938140    3.938140  1.783970e+06\n",
       "3     2016-05-09    3.937630    4.083380  ...    4.056430    4.056430  3.120940e+06\n",
       "4     2016-05-10    4.057970    4.115630  ...    3.819150    3.819150  3.688200e+06\n",
       "...          ...         ...         ...  ...         ...         ...           ...\n",
       "1696  2020-12-27  129.456619  138.319717  ...  127.516968  127.516968  1.410331e+10\n",
       "1697  2020-12-28  127.588303  136.185074  ...  130.050339  130.050339  1.024873e+10\n",
       "1698  2020-12-29  130.033264  130.608582  ...  129.040802  129.040802  9.160551e+09\n",
       "1699  2020-12-30  129.061859  132.450119  ...  129.466080  129.466080  8.127317e+09\n",
       "1700  2020-12-31  129.480286  130.166245  ...  124.690323  124.690323  6.274573e+09\n",
       "\n",
       "[1701 rows x 7 columns]"
      ]
     },
     "execution_count": 10,
     "metadata": {
      "tags": []
     },
     "output_type": "execute_result"
    }
   ],
   "source": [
    "lite_train = Litecoin[Litecoin['Date']< '2021-01-01'].copy()\n",
    "lite_train"
   ]
  },
  {
   "cell_type": "code",
   "execution_count": 11,
   "metadata": {
    "colab": {
     "base_uri": "https://localhost:8080/",
     "height": 424
    },
    "id": "MJ6uo5B5LVSA",
    "outputId": "aa0a6d89-8de7-41c3-d42c-966195fd3ddd"
   },
   "outputs": [
    {
     "data": {
      "text/html": [
       "<div>\n",
       "<style scoped>\n",
       "    .dataframe tbody tr th:only-of-type {\n",
       "        vertical-align: middle;\n",
       "    }\n",
       "\n",
       "    .dataframe tbody tr th {\n",
       "        vertical-align: top;\n",
       "    }\n",
       "\n",
       "    .dataframe thead th {\n",
       "        text-align: right;\n",
       "    }\n",
       "</style>\n",
       "<table border=\"1\" class=\"dataframe\">\n",
       "  <thead>\n",
       "    <tr style=\"text-align: right;\">\n",
       "      <th></th>\n",
       "      <th>Date</th>\n",
       "      <th>Open</th>\n",
       "      <th>High</th>\n",
       "      <th>Low</th>\n",
       "      <th>Close</th>\n",
       "      <th>Adj Close</th>\n",
       "      <th>Volume</th>\n",
       "    </tr>\n",
       "  </thead>\n",
       "  <tbody>\n",
       "    <tr>\n",
       "      <th>1702</th>\n",
       "      <td>2021-01-02</td>\n",
       "      <td>126.272964</td>\n",
       "      <td>140.372574</td>\n",
       "      <td>123.693619</td>\n",
       "      <td>136.944885</td>\n",
       "      <td>136.944885</td>\n",
       "      <td>1.053207e+10</td>\n",
       "    </tr>\n",
       "    <tr>\n",
       "      <th>1703</th>\n",
       "      <td>2021-01-03</td>\n",
       "      <td>136.949402</td>\n",
       "      <td>163.898636</td>\n",
       "      <td>135.739914</td>\n",
       "      <td>160.190582</td>\n",
       "      <td>160.190582</td>\n",
       "      <td>1.538566e+10</td>\n",
       "    </tr>\n",
       "    <tr>\n",
       "      <th>1704</th>\n",
       "      <td>2021-01-04</td>\n",
       "      <td>160.271164</td>\n",
       "      <td>173.027817</td>\n",
       "      <td>143.623962</td>\n",
       "      <td>154.807327</td>\n",
       "      <td>154.807327</td>\n",
       "      <td>1.365979e+10</td>\n",
       "    </tr>\n",
       "    <tr>\n",
       "      <th>1705</th>\n",
       "      <td>2021-01-05</td>\n",
       "      <td>154.897552</td>\n",
       "      <td>162.850189</td>\n",
       "      <td>147.400070</td>\n",
       "      <td>158.594772</td>\n",
       "      <td>158.594772</td>\n",
       "      <td>1.019282e+10</td>\n",
       "    </tr>\n",
       "    <tr>\n",
       "      <th>1706</th>\n",
       "      <td>2021-01-06</td>\n",
       "      <td>158.665970</td>\n",
       "      <td>169.657455</td>\n",
       "      <td>155.452866</td>\n",
       "      <td>169.016922</td>\n",
       "      <td>169.016922</td>\n",
       "      <td>1.074388e+10</td>\n",
       "    </tr>\n",
       "    <tr>\n",
       "      <th>...</th>\n",
       "      <td>...</td>\n",
       "      <td>...</td>\n",
       "      <td>...</td>\n",
       "      <td>...</td>\n",
       "      <td>...</td>\n",
       "      <td>...</td>\n",
       "      <td>...</td>\n",
       "    </tr>\n",
       "    <tr>\n",
       "      <th>1822</th>\n",
       "      <td>2021-05-02</td>\n",
       "      <td>276.960419</td>\n",
       "      <td>277.483459</td>\n",
       "      <td>265.335724</td>\n",
       "      <td>269.104370</td>\n",
       "      <td>269.104370</td>\n",
       "      <td>3.118501e+09</td>\n",
       "    </tr>\n",
       "    <tr>\n",
       "      <th>1823</th>\n",
       "      <td>2021-05-03</td>\n",
       "      <td>269.008301</td>\n",
       "      <td>299.300537</td>\n",
       "      <td>268.728973</td>\n",
       "      <td>294.704010</td>\n",
       "      <td>294.704010</td>\n",
       "      <td>5.172505e+09</td>\n",
       "    </tr>\n",
       "    <tr>\n",
       "      <th>1824</th>\n",
       "      <td>2021-05-04</td>\n",
       "      <td>294.774261</td>\n",
       "      <td>326.888672</td>\n",
       "      <td>275.464966</td>\n",
       "      <td>306.234497</td>\n",
       "      <td>306.234497</td>\n",
       "      <td>1.154125e+10</td>\n",
       "    </tr>\n",
       "    <tr>\n",
       "      <th>1825</th>\n",
       "      <td>2021-05-05</td>\n",
       "      <td>305.177399</td>\n",
       "      <td>359.500153</td>\n",
       "      <td>301.451569</td>\n",
       "      <td>356.037079</td>\n",
       "      <td>356.037079</td>\n",
       "      <td>1.318354e+10</td>\n",
       "    </tr>\n",
       "    <tr>\n",
       "      <th>1826</th>\n",
       "      <td>2021-05-06</td>\n",
       "      <td>357.893585</td>\n",
       "      <td>362.496399</td>\n",
       "      <td>327.807770</td>\n",
       "      <td>344.669098</td>\n",
       "      <td>344.669098</td>\n",
       "      <td>9.519699e+09</td>\n",
       "    </tr>\n",
       "  </tbody>\n",
       "</table>\n",
       "<p>125 rows × 7 columns</p>\n",
       "</div>"
      ],
      "text/plain": [
       "            Date        Open        High  ...       Close   Adj Close        Volume\n",
       "1702  2021-01-02  126.272964  140.372574  ...  136.944885  136.944885  1.053207e+10\n",
       "1703  2021-01-03  136.949402  163.898636  ...  160.190582  160.190582  1.538566e+10\n",
       "1704  2021-01-04  160.271164  173.027817  ...  154.807327  154.807327  1.365979e+10\n",
       "1705  2021-01-05  154.897552  162.850189  ...  158.594772  158.594772  1.019282e+10\n",
       "1706  2021-01-06  158.665970  169.657455  ...  169.016922  169.016922  1.074388e+10\n",
       "...          ...         ...         ...  ...         ...         ...           ...\n",
       "1822  2021-05-02  276.960419  277.483459  ...  269.104370  269.104370  3.118501e+09\n",
       "1823  2021-05-03  269.008301  299.300537  ...  294.704010  294.704010  5.172505e+09\n",
       "1824  2021-05-04  294.774261  326.888672  ...  306.234497  306.234497  1.154125e+10\n",
       "1825  2021-05-05  305.177399  359.500153  ...  356.037079  356.037079  1.318354e+10\n",
       "1826  2021-05-06  357.893585  362.496399  ...  344.669098  344.669098  9.519699e+09\n",
       "\n",
       "[125 rows x 7 columns]"
      ]
     },
     "execution_count": 11,
     "metadata": {
      "tags": []
     },
     "output_type": "execute_result"
    }
   ],
   "source": [
    "lite_test = Litecoin[Litecoin['Date'] > '2021-01-01'].copy()\n",
    "lite_test"
   ]
  },
  {
   "cell_type": "code",
   "execution_count": 12,
   "metadata": {
    "colab": {
     "base_uri": "https://localhost:8080/",
     "height": 206
    },
    "id": "41ITHH_wLZoI",
    "outputId": "64091f73-86d4-4ac9-84a5-78c923126c78"
   },
   "outputs": [
    {
     "data": {
      "text/html": [
       "<div>\n",
       "<style scoped>\n",
       "    .dataframe tbody tr th:only-of-type {\n",
       "        vertical-align: middle;\n",
       "    }\n",
       "\n",
       "    .dataframe tbody tr th {\n",
       "        vertical-align: top;\n",
       "    }\n",
       "\n",
       "    .dataframe thead th {\n",
       "        text-align: right;\n",
       "    }\n",
       "</style>\n",
       "<table border=\"1\" class=\"dataframe\">\n",
       "  <thead>\n",
       "    <tr style=\"text-align: right;\">\n",
       "      <th></th>\n",
       "      <th>Open</th>\n",
       "      <th>High</th>\n",
       "      <th>Low</th>\n",
       "      <th>Close</th>\n",
       "      <th>Volume</th>\n",
       "    </tr>\n",
       "  </thead>\n",
       "  <tbody>\n",
       "    <tr>\n",
       "      <th>0</th>\n",
       "      <td>3.71613</td>\n",
       "      <td>3.82211</td>\n",
       "      <td>3.70600</td>\n",
       "      <td>3.82211</td>\n",
       "      <td>1899060.0</td>\n",
       "    </tr>\n",
       "    <tr>\n",
       "      <th>1</th>\n",
       "      <td>3.81952</td>\n",
       "      <td>4.00344</td>\n",
       "      <td>3.81952</td>\n",
       "      <td>3.95345</td>\n",
       "      <td>3278610.0</td>\n",
       "    </tr>\n",
       "    <tr>\n",
       "      <th>2</th>\n",
       "      <td>3.93641</td>\n",
       "      <td>3.94411</td>\n",
       "      <td>3.88620</td>\n",
       "      <td>3.93814</td>\n",
       "      <td>1783970.0</td>\n",
       "    </tr>\n",
       "    <tr>\n",
       "      <th>3</th>\n",
       "      <td>3.93763</td>\n",
       "      <td>4.08338</td>\n",
       "      <td>3.89863</td>\n",
       "      <td>4.05643</td>\n",
       "      <td>3120940.0</td>\n",
       "    </tr>\n",
       "    <tr>\n",
       "      <th>4</th>\n",
       "      <td>4.05797</td>\n",
       "      <td>4.11563</td>\n",
       "      <td>3.79838</td>\n",
       "      <td>3.81915</td>\n",
       "      <td>3688200.0</td>\n",
       "    </tr>\n",
       "  </tbody>\n",
       "</table>\n",
       "</div>"
      ],
      "text/plain": [
       "      Open     High      Low    Close     Volume\n",
       "0  3.71613  3.82211  3.70600  3.82211  1899060.0\n",
       "1  3.81952  4.00344  3.81952  3.95345  3278610.0\n",
       "2  3.93641  3.94411  3.88620  3.93814  1783970.0\n",
       "3  3.93763  4.08338  3.89863  4.05643  3120940.0\n",
       "4  4.05797  4.11563  3.79838  3.81915  3688200.0"
      ]
     },
     "execution_count": 12,
     "metadata": {
      "tags": []
     },
     "output_type": "execute_result"
    }
   ],
   "source": [
    "train_lt = lite_train.drop(['Date', 'Adj Close'], axis = 1)\n",
    "train_lt.head()"
   ]
  },
  {
   "cell_type": "code",
   "execution_count": 13,
   "metadata": {
    "colab": {
     "base_uri": "https://localhost:8080/"
    },
    "id": "X9LNByWtULtk",
    "outputId": "2631b5ea-178e-49e9-bc4b-2db1f9077ff8"
   },
   "outputs": [
    {
     "data": {
      "text/plain": [
       "array([[6.38518125e-04, 7.11245300e-04, 1.13793655e-03, 8.27293862e-04,\n",
       "        8.77429683e-05],\n",
       "       [9.29236766e-04, 1.19904783e-03, 1.47950707e-03, 1.19746651e-03,\n",
       "        1.85565038e-04],\n",
       "       [1.25791557e-03, 1.03944200e-03, 1.68014064e-03, 1.15431634e-03,\n",
       "        7.95820883e-05],\n",
       "       ...,\n",
       "       [3.55825146e-01, 3.41784215e-01, 3.54627329e-01, 3.53747456e-01,\n",
       "        6.49515689e-01],\n",
       "       [3.53093688e-01, 3.46738201e-01, 3.61418847e-01, 3.54946073e-01,\n",
       "        5.76250431e-01],\n",
       "       [3.54270247e-01, 3.40594268e-01, 3.60191637e-01, 3.41485934e-01,\n",
       "        4.44874784e-01]])"
      ]
     },
     "execution_count": 13,
     "metadata": {
      "tags": []
     },
     "output_type": "execute_result"
    }
   ],
   "source": [
    "scaler = MinMaxScaler(feature_range= (0,1))\n",
    "train_lt = scaler.fit_transform(train_lt)\n",
    "train_lt"
   ]
  },
  {
   "cell_type": "code",
   "execution_count": 14,
   "metadata": {
    "colab": {
     "base_uri": "https://localhost:8080/"
    },
    "id": "rRG5xxVYUoAg",
    "outputId": "cde60dba-c5f8-4eab-d101-148fd4f221a5"
   },
   "outputs": [
    {
     "data": {
      "text/plain": [
       "(1701, 5)"
      ]
     },
     "execution_count": 14,
     "metadata": {
      "tags": []
     },
     "output_type": "execute_result"
    }
   ],
   "source": [
    "X_train = []\n",
    "y_train = []\n",
    "\n",
    "train_lt.shape"
   ]
  },
  {
   "cell_type": "code",
   "execution_count": 15,
   "metadata": {
    "id": "84407DkjUyBI"
   },
   "outputs": [],
   "source": [
    "for i in range(60, train_lt.shape[0]):\n",
    "    X_train.append(train_lt[i-60:i])\n",
    "    y_train.append(train_lt[i,0])"
   ]
  },
  {
   "cell_type": "code",
   "execution_count": 16,
   "metadata": {
    "id": "vq0iZLGtV8rQ"
   },
   "outputs": [],
   "source": [
    "X_train, y_train = np.array(X_train), np.array(y_train)"
   ]
  },
  {
   "cell_type": "code",
   "execution_count": 17,
   "metadata": {
    "colab": {
     "base_uri": "https://localhost:8080/"
    },
    "id": "WFXrtWhSV_mw",
    "outputId": "d9d3b675-c0aa-4d97-e3c2-614c42889cf8"
   },
   "outputs": [
    {
     "data": {
      "text/plain": [
       "(1641, 60, 5)"
      ]
     },
     "execution_count": 17,
     "metadata": {
      "tags": []
     },
     "output_type": "execute_result"
    }
   ],
   "source": [
    "X_train.shape"
   ]
  },
  {
   "cell_type": "code",
   "execution_count": 18,
   "metadata": {
    "id": "gkUbvvpLWBEg"
   },
   "outputs": [],
   "source": [
    "from tensorflow.keras import Sequential\n",
    "from tensorflow.keras.layers import Dense, LSTM, Dropout"
   ]
  },
  {
   "cell_type": "markdown",
   "metadata": {
    "id": "MtwgvwQnpK_4"
   },
   "source": [
    "## LSTM model"
   ]
  },
  {
   "cell_type": "code",
   "execution_count": 19,
   "metadata": {
    "colab": {
     "base_uri": "https://localhost:8080/"
    },
    "id": "m3nva7nmWDMc",
    "outputId": "11cd29ca-a9d0-43a3-a7d2-9b6545c870ee"
   },
   "outputs": [
    {
     "name": "stdout",
     "output_type": "stream",
     "text": [
      "WARNING:tensorflow:Layer lstm will not use cuDNN kernel since it doesn't meet the cuDNN kernel criteria. It will use generic GPU kernel as fallback when running on GPU\n"
     ]
    }
   ],
   "source": [
    "regressor = Sequential()\n",
    "regressor.add(LSTM(units = 50, activation = 'relu', return_sequences = True, input_shape = (X_train.shape[1], 5)))\n",
    "regressor.add(Dropout(0.2))"
   ]
  },
  {
   "cell_type": "code",
   "execution_count": 20,
   "metadata": {
    "colab": {
     "base_uri": "https://localhost:8080/"
    },
    "id": "DrV58w2OWKFE",
    "outputId": "0d22112c-4b5a-4205-fa3b-507b49d8334d"
   },
   "outputs": [
    {
     "name": "stdout",
     "output_type": "stream",
     "text": [
      "WARNING:tensorflow:Layer lstm_1 will not use cuDNN kernel since it doesn't meet the cuDNN kernel criteria. It will use generic GPU kernel as fallback when running on GPU\n",
      "WARNING:tensorflow:Layer lstm_2 will not use cuDNN kernel since it doesn't meet the cuDNN kernel criteria. It will use generic GPU kernel as fallback when running on GPU\n",
      "WARNING:tensorflow:Layer lstm_3 will not use cuDNN kernel since it doesn't meet the cuDNN kernel criteria. It will use generic GPU kernel as fallback when running on GPU\n"
     ]
    }
   ],
   "source": [
    "regressor.add(LSTM(units = 60, activation = 'relu', return_sequences = True))\n",
    "regressor.add(Dropout(0.3))\n",
    "\n",
    "regressor.add(LSTM(units = 80, activation = 'relu', return_sequences = True))\n",
    "regressor.add(Dropout(0.4))\n",
    "\n",
    "regressor.add(LSTM(units = 120, activation = 'relu'))\n",
    "regressor.add(Dropout(0.5))\n",
    "\n",
    "regressor.add(Dense(units =1))"
   ]
  },
  {
   "cell_type": "code",
   "execution_count": 21,
   "metadata": {
    "colab": {
     "base_uri": "https://localhost:8080/"
    },
    "id": "l2jbfOePWNCI",
    "outputId": "ec4a0ae0-af14-440d-dbc9-318e7daf6e68"
   },
   "outputs": [
    {
     "name": "stdout",
     "output_type": "stream",
     "text": [
      "Model: \"sequential\"\n",
      "_________________________________________________________________\n",
      "Layer (type)                 Output Shape              Param #   \n",
      "=================================================================\n",
      "lstm (LSTM)                  (None, 60, 50)            11200     \n",
      "_________________________________________________________________\n",
      "dropout (Dropout)            (None, 60, 50)            0         \n",
      "_________________________________________________________________\n",
      "lstm_1 (LSTM)                (None, 60, 60)            26640     \n",
      "_________________________________________________________________\n",
      "dropout_1 (Dropout)          (None, 60, 60)            0         \n",
      "_________________________________________________________________\n",
      "lstm_2 (LSTM)                (None, 60, 80)            45120     \n",
      "_________________________________________________________________\n",
      "dropout_2 (Dropout)          (None, 60, 80)            0         \n",
      "_________________________________________________________________\n",
      "lstm_3 (LSTM)                (None, 120)               96480     \n",
      "_________________________________________________________________\n",
      "dropout_3 (Dropout)          (None, 120)               0         \n",
      "_________________________________________________________________\n",
      "dense (Dense)                (None, 1)                 121       \n",
      "=================================================================\n",
      "Total params: 179,561\n",
      "Trainable params: 179,561\n",
      "Non-trainable params: 0\n",
      "_________________________________________________________________\n"
     ]
    }
   ],
   "source": [
    "regressor.summary()"
   ]
  },
  {
   "cell_type": "code",
   "execution_count": 22,
   "metadata": {
    "id": "tnIyVNCcWOxE"
   },
   "outputs": [],
   "source": [
    "from keras import optimizers\n",
    "\n",
    "optimizer = optimizers.Adam(clipvalue=0.5)\n",
    "\n",
    "regressor.compile(optimizer = optimizer, loss = 'mean_squared_error')"
   ]
  },
  {
   "cell_type": "code",
   "execution_count": 23,
   "metadata": {
    "colab": {
     "base_uri": "https://localhost:8080/"
    },
    "id": "yzRfTnTZWReg",
    "outputId": "4f31ce7c-3724-45e2-f577-241380f0b4f3"
   },
   "outputs": [
    {
     "name": "stdout",
     "output_type": "stream",
     "text": [
      "Epoch 1/20\n",
      "52/52 [==============================] - 28s 454ms/step - loss: 0.0213\n",
      "Epoch 2/20\n",
      "52/52 [==============================] - 24s 462ms/step - loss: 0.0058\n",
      "Epoch 3/20\n",
      "52/52 [==============================] - 24s 455ms/step - loss: 0.0067\n",
      "Epoch 4/20\n",
      "52/52 [==============================] - 23s 451ms/step - loss: 0.0040\n",
      "Epoch 5/20\n",
      "52/52 [==============================] - 24s 456ms/step - loss: 0.0031\n",
      "Epoch 6/20\n",
      "52/52 [==============================] - 24s 456ms/step - loss: 0.0033\n",
      "Epoch 7/20\n",
      "52/52 [==============================] - 23s 450ms/step - loss: 0.0032\n",
      "Epoch 8/20\n",
      "52/52 [==============================] - 24s 457ms/step - loss: 0.0027\n",
      "Epoch 9/20\n",
      "52/52 [==============================] - 24s 452ms/step - loss: 0.0022\n",
      "Epoch 10/20\n",
      "52/52 [==============================] - 23s 449ms/step - loss: 0.0022\n",
      "Epoch 11/20\n",
      "52/52 [==============================] - 23s 450ms/step - loss: 0.0022\n",
      "Epoch 12/20\n",
      "52/52 [==============================] - 23s 450ms/step - loss: 0.0021\n",
      "Epoch 13/20\n",
      "52/52 [==============================] - 23s 448ms/step - loss: 0.0019\n",
      "Epoch 14/20\n",
      "52/52 [==============================] - 23s 451ms/step - loss: 0.0022\n",
      "Epoch 15/20\n",
      "52/52 [==============================] - 24s 453ms/step - loss: 0.0021\n",
      "Epoch 16/20\n",
      "52/52 [==============================] - 23s 449ms/step - loss: 0.0026\n",
      "Epoch 17/20\n",
      "52/52 [==============================] - 24s 453ms/step - loss: 0.0021\n",
      "Epoch 18/20\n",
      "52/52 [==============================] - 23s 451ms/step - loss: 0.0021\n",
      "Epoch 19/20\n",
      "52/52 [==============================] - 23s 443ms/step - loss: 0.0021\n",
      "Epoch 20/20\n",
      "52/52 [==============================] - 24s 452ms/step - loss: 0.0019\n"
     ]
    },
    {
     "data": {
      "text/plain": [
       "<tensorflow.python.keras.callbacks.History at 0x7f88401ed710>"
      ]
     },
     "execution_count": 23,
     "metadata": {
      "tags": []
     },
     "output_type": "execute_result"
    }
   ],
   "source": [
    "regressor.fit(X_train, y_train, epochs = 20, batch_size =32)"
   ]
  },
  {
   "cell_type": "code",
   "execution_count": 24,
   "metadata": {
    "colab": {
     "base_uri": "https://localhost:8080/",
     "height": 206
    },
    "id": "hfJad0JMWUgQ",
    "outputId": "4385f09e-9753-4609-cbee-3a53a1fb1439"
   },
   "outputs": [
    {
     "data": {
      "text/html": [
       "<div>\n",
       "<style scoped>\n",
       "    .dataframe tbody tr th:only-of-type {\n",
       "        vertical-align: middle;\n",
       "    }\n",
       "\n",
       "    .dataframe tbody tr th {\n",
       "        vertical-align: top;\n",
       "    }\n",
       "\n",
       "    .dataframe thead th {\n",
       "        text-align: right;\n",
       "    }\n",
       "</style>\n",
       "<table border=\"1\" class=\"dataframe\">\n",
       "  <thead>\n",
       "    <tr style=\"text-align: right;\">\n",
       "      <th></th>\n",
       "      <th>Open</th>\n",
       "      <th>High</th>\n",
       "      <th>Low</th>\n",
       "      <th>Close</th>\n",
       "      <th>Volume</th>\n",
       "    </tr>\n",
       "  </thead>\n",
       "  <tbody>\n",
       "    <tr>\n",
       "      <th>0</th>\n",
       "      <td>55.587322</td>\n",
       "      <td>56.710835</td>\n",
       "      <td>53.205944</td>\n",
       "      <td>53.817482</td>\n",
       "      <td>3.019890e+09</td>\n",
       "    </tr>\n",
       "    <tr>\n",
       "      <th>1</th>\n",
       "      <td>53.817410</td>\n",
       "      <td>54.272400</td>\n",
       "      <td>51.648445</td>\n",
       "      <td>53.819622</td>\n",
       "      <td>2.580301e+09</td>\n",
       "    </tr>\n",
       "    <tr>\n",
       "      <th>2</th>\n",
       "      <td>53.819469</td>\n",
       "      <td>55.007088</td>\n",
       "      <td>51.606560</td>\n",
       "      <td>54.499104</td>\n",
       "      <td>3.050534e+09</td>\n",
       "    </tr>\n",
       "    <tr>\n",
       "      <th>3</th>\n",
       "      <td>54.501873</td>\n",
       "      <td>59.223793</td>\n",
       "      <td>54.501873</td>\n",
       "      <td>58.678497</td>\n",
       "      <td>3.250515e+09</td>\n",
       "    </tr>\n",
       "    <tr>\n",
       "      <th>4</th>\n",
       "      <td>58.676193</td>\n",
       "      <td>63.280354</td>\n",
       "      <td>58.465351</td>\n",
       "      <td>63.131111</td>\n",
       "      <td>4.083503e+09</td>\n",
       "    </tr>\n",
       "  </tbody>\n",
       "</table>\n",
       "</div>"
      ],
      "text/plain": [
       "        Open       High        Low      Close        Volume\n",
       "0  55.587322  56.710835  53.205944  53.817482  3.019890e+09\n",
       "1  53.817410  54.272400  51.648445  53.819622  2.580301e+09\n",
       "2  53.819469  55.007088  51.606560  54.499104  3.050534e+09\n",
       "3  54.501873  59.223793  54.501873  58.678497  3.250515e+09\n",
       "4  58.676193  63.280354  58.465351  63.131111  4.083503e+09"
      ]
     },
     "execution_count": 24,
     "metadata": {
      "tags": []
     },
     "output_type": "execute_result"
    }
   ],
   "source": [
    "past_60_days = lite_train.tail(60)\n",
    "lt= past_60_days.append(lite_test, ignore_index = True)\n",
    "lt = lt.drop(['Date', 'Adj Close'], axis = 1)\n",
    "lt.head()"
   ]
  },
  {
   "cell_type": "code",
   "execution_count": 25,
   "metadata": {
    "colab": {
     "base_uri": "https://localhost:8080/"
    },
    "id": "KMw4S3S3fygo",
    "outputId": "640b2791-a7dc-4280-c8cd-54127753b46e"
   },
   "outputs": [
    {
     "data": {
      "text/plain": [
       "array([[0.14649327, 0.14298916, 0.1500784 , 0.14173577, 0.21408949],\n",
       "       [0.14151651, 0.13642943, 0.14539204, 0.1417418 , 0.18291881],\n",
       "       [0.1415223 , 0.13840584, 0.14526601, 0.14365687, 0.21626243],\n",
       "       [0.14344113, 0.14974936, 0.15397773, 0.1554362 , 0.23044278],\n",
       "       [0.15517875, 0.16066206, 0.16590344, 0.16798558, 0.28950892],\n",
       "       [0.16770538, 0.16367967, 0.16327626, 0.15674719, 0.30634571],\n",
       "       [0.15649317, 0.1567142 , 0.1671548 , 0.16213434, 0.18150171],\n",
       "       [0.16186768, 0.1566163 , 0.16402882, 0.15736792, 0.19791029],\n",
       "       [0.1571169 , 0.15091579, 0.16329215, 0.15419284, 0.16090385],\n",
       "       [0.15394455, 0.15331251, 0.16512002, 0.15779391, 0.18295357],\n",
       "       [0.1575361 , 0.15304731, 0.16542201, 0.16019056, 0.17770213],\n",
       "       [0.15992727, 0.16803526, 0.17145945, 0.1745415 , 0.30662866],\n",
       "       [0.17424602, 0.16753728, 0.17631918, 0.16979795, 0.20416013],\n",
       "       [0.16951353, 0.1629931 , 0.1742356 , 0.16558657, 0.18188798],\n",
       "       [0.16531194, 0.1841119 , 0.17705348, 0.19108301, 0.36086261],\n",
       "       [0.19686444, 0.19604877, 0.20432538, 0.20383948, 0.4098845 ],\n",
       "       [0.20346877, 0.1960831 , 0.19949234, 0.197759  , 0.43396585],\n",
       "       [0.19741151, 0.21428184, 0.20601586, 0.22027468, 0.46907436],\n",
       "       [0.21987255, 0.21956164, 0.2314975 , 0.22280981, 0.44418734],\n",
       "       [0.22240188, 0.22717096, 0.23265752, 0.23359584, 0.46551633],\n",
       "       [0.23316278, 0.22620308, 0.22963422, 0.22315099, 0.44561746],\n",
       "       [0.22274248, 0.23298386, 0.23426513, 0.24100605, 0.51041855],\n",
       "       [0.24053728, 0.24216155, 0.25125489, 0.24147408, 0.54936384],\n",
       "       [0.24101741, 0.2336487 , 0.23029017, 0.22082838, 0.42776623],\n",
       "       [0.2204112 , 0.21390612, 0.18624361, 0.18978505, 0.63571418],\n",
       "       [0.18950649, 0.18805655, 0.1884316 , 0.18487576, 0.41654152],\n",
       "       [0.18457858, 0.19174178, 0.19625617, 0.194935  , 0.33920818],\n",
       "       [0.19461073, 0.20774766, 0.20582406, 0.21337347, 0.37678909],\n",
       "       [0.21291833, 0.22750832, 0.22187403, 0.23687794, 0.48301587],\n",
       "       [0.23644277, 0.23866642, 0.23465341, 0.2308497 , 0.69615511],\n",
       "       [0.23042809, 0.23282501, 0.24091499, 0.24049084, 0.54689075],\n",
       "       [0.24009782, 0.23556354, 0.24817274, 0.24117418, 0.42641642],\n",
       "       [0.24073741, 0.23147117, 0.22699574, 0.2155775 , 0.38598829],\n",
       "       [0.21515919, 0.21685419, 0.22815502, 0.22431929, 0.32029588],\n",
       "       [0.22389993, 0.21919086, 0.23251174, 0.22554984, 0.24492881],\n",
       "       [0.22510785, 0.22373527, 0.23651598, 0.22574354, 0.30573444],\n",
       "       [0.22530742, 0.21832152, 0.21859277, 0.20636569, 0.29995892],\n",
       "       [0.20596723, 0.20052877, 0.20849032, 0.2082324 , 0.30058267],\n",
       "       [0.20786189, 0.19911749, 0.21105496, 0.20095684, 0.2131825 ],\n",
       "       [0.20058912, 0.19179911, 0.20130605, 0.19322807, 0.26670161],\n",
       "       [0.19286482, 0.19896861, 0.20686471, 0.20624798, 0.21031673],\n",
       "       [0.20589627, 0.21610218, 0.21763835, 0.22116804, 0.27259983],\n",
       "       [0.22084494, 0.21337289, 0.22897437, 0.22218977, 0.24529074],\n",
       "       [0.2217867 , 0.21830629, 0.23280448, 0.21947707, 0.26426491],\n",
       "       [0.21910747, 0.24019788, 0.22778754, 0.25157622, 0.43622918],\n",
       "       [0.25112856, 0.28428539, 0.26422059, 0.27460247, 0.79164855],\n",
       "       [0.27415677, 0.29239915, 0.28952579, 0.29834756, 0.71587745],\n",
       "       [0.29771029, 0.3233483 , 0.30798577, 0.32984183, 0.69906613],\n",
       "       [0.32899869, 0.32060433, 0.32329189, 0.31323306, 0.61345974],\n",
       "       [0.31262099, 0.3079061 , 0.29568863, 0.28600533, 0.70222127],\n",
       "       [0.28529604, 0.29718441, 0.28747305, 0.31045514, 0.79563108],\n",
       "       [0.30983909, 0.30487305, 0.2796529 , 0.27701924, 0.87124618],\n",
       "       [0.27670427, 0.29154399, 0.28969261, 0.30449425, 0.71674438],\n",
       "       [0.3037451 , 0.33483643, 0.31671037, 0.34794937, 0.82806316],\n",
       "       [0.3475187 , 0.35288522, 0.36650153, 0.35492668, 0.89908984],\n",
       "       [0.3542037 , 0.36252822, 0.36037494, 0.34945264, 1.        ],\n",
       "       [0.34895025, 0.35678574, 0.37233213, 0.35659277, 0.72667697],\n",
       "       [0.35582515, 0.34178421, 0.35462733, 0.35374746, 0.64951569],\n",
       "       [0.35309369, 0.3467382 , 0.36141885, 0.35494607, 0.57625043],\n",
       "       [0.35427025, 0.34059427, 0.36019164, 0.34148593, 0.44487478],\n",
       "       [0.34525169, 0.36805069, 0.36216889, 0.37602456, 0.74676813],\n",
       "       [0.37527239, 0.43133902, 0.39841501, 0.44154094, 1.09093002],\n",
       "       [0.44085002, 0.45589776, 0.42213733, 0.42636861, 0.96855046],\n",
       "       [0.42574015, 0.42851855, 0.43349927, 0.43704326, 0.72271243],\n",
       "       [0.43633643, 0.44683103, 0.45772934, 0.46641737, 0.76178775],\n",
       "       [0.46558615, 0.47700341, 0.47985585, 0.46810569, 0.92882711],\n",
       "       [0.4671982 , 0.47940637, 0.44628766, 0.47843221, 1.04270883],\n",
       "       [0.4773553 , 0.47220606, 0.48390563, 0.49028104, 0.7896474 ],\n",
       "       [0.48923102, 0.49020382, 0.48279929, 0.4723302 , 0.9057733 ],\n",
       "       [0.4712847 , 0.45069777, 0.33587964, 0.38252765, 1.27590256],\n",
       "       [0.3812633 , 0.38511641, 0.37791439, 0.36388002, 0.84368684],\n",
       "       [0.36320818, 0.38824104, 0.37170237, 0.40555173, 0.59712817],\n",
       "       [0.4046011 , 0.41161571, 0.42381878, 0.41869474, 0.58646798],\n",
       "       [0.41790622, 0.40771584, 0.38774368, 0.39657843, 0.59676486],\n",
       "       [0.39562687, 0.39949368, 0.41123925, 0.396657  , 0.50934742],\n",
       "       [0.39572993, 0.38540654, 0.40241561, 0.39148628, 0.43241347],\n",
       "       [0.39069615, 0.40612453, 0.40765691, 0.41886246, 0.47080172],\n",
       "       [0.41814813, 0.43678833, 0.4427902 , 0.42264857, 0.66045186],\n",
       "       [0.42140578, 0.41046316, 0.4085032 , 0.41262623, 0.63827567],\n",
       "       [0.41181169, 0.39379938, 0.36981325, 0.35682715, 0.61707176],\n",
       "       [0.35593923, 0.36978026, 0.3620284 , 0.37694498, 0.60626336],\n",
       "       [0.37597055, 0.37334136, 0.39652379, 0.37829652, 0.38148631],\n",
       "       [0.37749181, 0.37418375, 0.39461922, 0.38879889, 0.35252318],\n",
       "       [0.3878945 , 0.38628366, 0.40223637, 0.37743185, 0.44985875],\n",
       "       [0.37663198, 0.36581356, 0.37773331, 0.36985327, 0.41812916],\n",
       "       [0.36909204, 0.35322821, 0.3474069 , 0.33657946, 0.44533701],\n",
       "       [0.33588338, 0.34481981, 0.35567789, 0.35811848, 0.47926764],\n",
       "       [0.37884098, 0.38038728, 0.38764869, 0.37057848, 0.6295436 ],\n",
       "       [0.36978883, 0.35602799, 0.37788422, 0.36603362, 0.44897463],\n",
       "       [0.36534265, 0.35280066, 0.36986979, 0.35524126, 0.32183505],\n",
       "       [0.35453545, 0.35663817, 0.37016303, 0.36195228, 0.39754939],\n",
       "       [0.36122293, 0.38193271, 0.38702029, 0.39170092, 0.53547076],\n",
       "       [0.39081448, 0.40980089, 0.41775575, 0.42863661, 0.60884415],\n",
       "       [0.42787415, 0.4157097 , 0.41849696, 0.39914502, 0.55386753],\n",
       "       [0.39833314, 0.41153066, 0.42422616, 0.42649514, 0.52180209],\n",
       "       [0.42561791, 0.43008085, 0.44286509, 0.42892608, 0.59018835],\n",
       "       [0.42791087, 0.41312682, 0.42827121, 0.41603272, 0.48815397],\n",
       "       [0.41508307, 0.44308768, 0.43567367, 0.4613502 , 0.62847939],\n",
       "       [0.4603723 , 0.48445806, 0.48551641, 0.5033319 , 0.72012662],\n",
       "       [0.50191328, 0.51280806, 0.50828666, 0.50350078, 0.90905968],\n",
       "       [0.50212498, 0.50829374, 0.52122219, 0.51004408, 0.65791431],\n",
       "       [0.50866088, 0.52688793, 0.52594261, 0.54593877, 0.76855854],\n",
       "       [0.54478542, 0.60481471, 0.57046321, 0.62766168, 1.17459175],\n",
       "       [0.62647441, 0.60702249, 0.62216222, 0.59441172, 0.91485314],\n",
       "       [0.59284205, 0.58128689, 0.5680609 , 0.57538942, 0.95598979],\n",
       "       [0.57396164, 0.58508829, 0.5956668 , 0.58346579, 0.89811334],\n",
       "       [0.58228079, 0.62792048, 0.60453387, 0.65794832, 0.97798162],\n",
       "       [0.65645838, 0.63121074, 0.6567382 , 0.62947098, 0.55935724],\n",
       "       [0.62819926, 0.63918612, 0.65482416, 0.65710979, 0.50702694],\n",
       "       [0.65563073, 0.65208865, 0.64184042, 0.63158574, 0.5820211 ],\n",
       "       [0.62994355, 0.61762928, 0.65490533, 0.63049069, 0.49168137],\n",
       "       [0.62911178, 0.60172198, 0.53919471, 0.57658945, 0.67521958],\n",
       "       [0.57540404, 0.5509722 , 0.47046245, 0.4887337 , 0.77602707],\n",
       "       [0.48779578, 0.49931025, 0.50086537, 0.5012576 , 0.51087567],\n",
       "       [0.50022044, 0.5412182 , 0.51965039, 0.49427732, 0.51957184],\n",
       "       [0.49387435, 0.48023822, 0.48118487, 0.47031026, 0.55842973],\n",
       "       [0.4694193 , 0.47446524, 0.49520797, 0.47510807, 0.35386394],\n",
       "       [0.47411725, 0.45487111, 0.4557643 , 0.45489069, 0.42150519],\n",
       "       [0.45409945, 0.46484878, 0.48334583, 0.48395076, 0.32806582],\n",
       "       [0.48285511, 0.48737958, 0.50510981, 0.49137602, 0.37203042],\n",
       "       [0.49062901, 0.51839267, 0.52366532, 0.5214014 , 0.45321002],\n",
       "       [0.52010845, 0.51293954, 0.52353966, 0.50041249, 0.38914233],\n",
       "       [0.49924906, 0.48300023, 0.49947565, 0.49953023, 0.32335294],\n",
       "       [0.49831092, 0.48632797, 0.51773461, 0.50577669, 0.26937768],\n",
       "       [0.50473424, 0.50631743, 0.53887787, 0.52769621, 0.25106607],\n",
       "       [0.52661217, 0.5139815 , 0.53179513, 0.53098977, 0.31203816],\n",
       "       [0.52989862, 0.54123646, 0.55993223, 0.56399408, 0.38344814],\n",
       "       [0.56280175, 0.54834318, 0.56944864, 0.55519775, 0.44640001],\n",
       "       [0.55382675, 0.53697853, 0.56630246, 0.557265  , 0.34195661],\n",
       "       [0.55614348, 0.59198415, 0.58861951, 0.61244725, 0.57287555],\n",
       "       [0.61123034, 0.60747665, 0.63272249, 0.62865008, 0.45224706],\n",
       "       [0.627092  , 0.60332347, 0.63779175, 0.596852  , 0.32171029],\n",
       "       [0.59537915, 0.58679602, 0.58801383, 0.55730525, 0.4386208 ],\n",
       "       [0.55591162, 0.54154252, 0.5682732 , 0.55667397, 0.37364394],\n",
       "       [0.55555439, 0.54537068, 0.57680061, 0.57084306, 0.30925683],\n",
       "       [0.56952648, 0.55023699, 0.59207729, 0.55525538, 0.26370229],\n",
       "       [0.55396585, 0.54283197, 0.58260152, 0.55673904, 0.19905984],\n",
       "       [0.55546789, 0.54647438, 0.59230098, 0.55601387, 0.17928647],\n",
       "       [0.55485052, 0.5361198 , 0.57219782, 0.54367288, 0.19557323],\n",
       "       [0.54252347, 0.52550087, 0.5515006 , 0.51732079, 0.2208567 ],\n",
       "       [0.51620219, 0.50144201, 0.53969593, 0.51821179, 0.2160422 ],\n",
       "       [0.51696132, 0.52129265, 0.51908168, 0.49076306, 0.28722345],\n",
       "       [0.48953814, 0.47230466, 0.50040551, 0.47781585, 0.24312202],\n",
       "       [0.47670416, 0.4865956 , 0.50975131, 0.50943154, 0.22046277],\n",
       "       [0.50832386, 0.492258  , 0.52893604, 0.51098668, 0.17070409],\n",
       "       [0.50989026, 0.49549071, 0.53661458, 0.51154485, 0.15331607],\n",
       "       [0.51042804, 0.52170141, 0.54204521, 0.53816856, 0.23777877],\n",
       "       [0.53701482, 0.52878255, 0.56514557, 0.54438974, 0.25555517],\n",
       "       [0.54325188, 0.52652695, 0.56014678, 0.5466924 , 0.24220151],\n",
       "       [0.54560097, 0.5431636 , 0.57956016, 0.56533186, 0.27449798],\n",
       "       [0.56396033, 0.56720419, 0.5993153 , 0.59102432, 0.29034031],\n",
       "       [0.58956552, 0.57752536, 0.58318052, 0.54570344, 0.28503644],\n",
       "       [0.54443518, 0.54518896, 0.57832966, 0.56513567, 0.20323623],\n",
       "       [0.5639439 , 0.59678839, 0.59456091, 0.61312265, 0.33958067],\n",
       "       [0.61333954, 0.64821472, 0.64482462, 0.65989692, 0.65709897],\n",
       "       [0.65818014, 0.64453947, 0.62855609, 0.60848529, 0.61765059],\n",
       "       [0.60836811, 0.60473188, 0.64618146, 0.62984715, 0.32133153],\n",
       "       [0.62854478, 0.60638222, 0.65227452, 0.61535857, 0.22241665],\n",
       "       [0.6136246 , 0.67823264, 0.6525493 , 0.71050265, 0.47409324],\n",
       "       [0.71261715, 0.70200888, 0.73141893, 0.704906  , 0.4811759 ],\n",
       "       [0.70208583, 0.68608956, 0.71544635, 0.6791453 , 0.37012239],\n",
       "       [0.67828671, 0.72551647, 0.72617502, 0.74252364, 0.48982369],\n",
       "       [0.74161072, 0.75087262, 0.76256057, 0.77850636, 0.58247674],\n",
       "       [0.77565866, 0.77269558, 0.79389849, 0.79779061, 0.45878275],\n",
       "       [0.79517164, 0.84311817, 0.79478717, 0.8654953 , 0.84028001],\n",
       "       [0.86062051, 0.89169112, 0.89450231, 0.84899955, 0.93978509],\n",
       "       [0.84681536, 0.81711978, 0.70712082, 0.75976494, 0.93097046],\n",
       "       [0.75964225, 0.7473061 , 0.7467693 , 0.72825602, 0.66541815],\n",
       "       [0.724874  , 0.72374023, 0.69910505, 0.72549995, 0.6697706 ],\n",
       "       [0.72427676, 0.73374163, 0.74728008, 0.71948051, 0.5458261 ],\n",
       "       [0.71581731, 0.76876439, 0.71603926, 0.70333866, 0.69932115],\n",
       "       [0.70188559, 0.68086954, 0.62795887, 0.67030786, 0.65605098],\n",
       "       [0.66913579, 0.63998377, 0.65580788, 0.6237389 , 0.32386208],\n",
       "       [0.62263895, 0.62316578, 0.62873717, 0.62034858, 0.26255724],\n",
       "       [0.62001068, 0.65747208, 0.65769349, 0.68735133, 0.34992839],\n",
       "       [0.68634576, 0.69690256, 0.7241451 , 0.72186682, 0.32652841],\n",
       "       [0.72068615, 0.70683287, 0.7377223 , 0.71863372, 0.30029214],\n",
       "       [0.71727267, 0.69671654, 0.74008522, 0.71040422, 0.2521001 ],\n",
       "       [0.7084816 , 0.72549578, 0.75090154, 0.75432048, 0.276417  ],\n",
       "       [0.75260564, 0.73887758, 0.79225466, 0.77029096, 0.25606146],\n",
       "       [0.76896436, 0.73689774, 0.78835607, 0.74850687, 0.22108189],\n",
       "       [0.74660408, 0.79558867, 0.79856602, 0.82065767, 0.3667286 ],\n",
       "       [0.81905446, 0.86980453, 0.81883396, 0.85315555, 0.81832817],\n",
       "       [0.84830667, 0.95753388, 0.8970251 , 0.99352065, 0.93478044],\n",
       "       [0.99653743, 0.96559419, 0.97632831, 0.96148079, 0.67498237]])"
      ]
     },
     "execution_count": 25,
     "metadata": {
      "tags": []
     },
     "output_type": "execute_result"
    }
   ],
   "source": [
    "inputs = scaler.transform(lt)\n",
    "inputs"
   ]
  },
  {
   "cell_type": "code",
   "execution_count": 26,
   "metadata": {
    "id": "-cB3uhgLgJ-M"
   },
   "outputs": [],
   "source": [
    "X_test = []\n",
    "y_test = []\n",
    "for i in range (60, inputs.shape[0]):\n",
    "    X_test.append(inputs[i-60:i])\n",
    "    y_test.append(inputs[i, 0])"
   ]
  },
  {
   "cell_type": "code",
   "execution_count": 27,
   "metadata": {
    "colab": {
     "base_uri": "https://localhost:8080/"
    },
    "id": "uoqX1BMUgTP8",
    "outputId": "91482310-9451-4d30-de30-d967aebc3233"
   },
   "outputs": [
    {
     "data": {
      "text/plain": [
       "((125, 60, 5), (125,))"
      ]
     },
     "execution_count": 27,
     "metadata": {
      "tags": []
     },
     "output_type": "execute_result"
    }
   ],
   "source": [
    "X_test, y_test = np.array(X_test), np.array(y_test)\n",
    "X_test.shape, y_test.shape"
   ]
  },
  {
   "cell_type": "code",
   "execution_count": 28,
   "metadata": {
    "colab": {
     "base_uri": "https://localhost:8080/"
    },
    "id": "QQVYw1uggY1w",
    "outputId": "6797bada-9739-4099-c21d-b33a10097160"
   },
   "outputs": [
    {
     "data": {
      "text/plain": [
       "(array([[0.25960687],\n",
       "        [0.25841773],\n",
       "        [0.26391304],\n",
       "        [0.27821484],\n",
       "        [0.29683056],\n",
       "        [0.31620568],\n",
       "        [0.33584392],\n",
       "        [0.35537764],\n",
       "        [0.37175015],\n",
       "        [0.384363  ],\n",
       "        [0.39348674],\n",
       "        [0.3954489 ],\n",
       "        [0.38958508],\n",
       "        [0.37829712],\n",
       "        [0.36403194],\n",
       "        [0.3487959 ],\n",
       "        [0.33404443],\n",
       "        [0.32170013],\n",
       "        [0.3149298 ],\n",
       "        [0.31488097],\n",
       "        [0.31956702],\n",
       "        [0.32570446],\n",
       "        [0.32975867],\n",
       "        [0.33057946],\n",
       "        [0.32920912],\n",
       "        [0.32647035],\n",
       "        [0.3228251 ],\n",
       "        [0.31880963],\n",
       "        [0.31632724],\n",
       "        [0.31484786],\n",
       "        [0.3129187 ],\n",
       "        [0.3104181 ],\n",
       "        [0.3089343 ],\n",
       "        [0.31081933],\n",
       "        [0.316398  ],\n",
       "        [0.32447952],\n",
       "        [0.33436936],\n",
       "        [0.34368506],\n",
       "        [0.35249925],\n",
       "        [0.36278874],\n",
       "        [0.3773867 ],\n",
       "        [0.3932778 ],\n",
       "        [0.40919703],\n",
       "        [0.4301499 ],\n",
       "        [0.45358604],\n",
       "        [0.47464517],\n",
       "        [0.48968926],\n",
       "        [0.49999833],\n",
       "        [0.50446653],\n",
       "        [0.5050118 ],\n",
       "        [0.505032  ],\n",
       "        [0.5060692 ],\n",
       "        [0.5089161 ],\n",
       "        [0.51151174],\n",
       "        [0.5097476 ],\n",
       "        [0.5034816 ],\n",
       "        [0.49334618],\n",
       "        [0.47986758],\n",
       "        [0.46449578],\n",
       "        [0.44871902],\n",
       "        [0.434816  ],\n",
       "        [0.42585513],\n",
       "        [0.4228222 ],\n",
       "        [0.42416444],\n",
       "        [0.42775604],\n",
       "        [0.43243513],\n",
       "        [0.43812048],\n",
       "        [0.44600868],\n",
       "        [0.45689708],\n",
       "        [0.468436  ],\n",
       "        [0.482392  ],\n",
       "        [0.4979027 ],\n",
       "        [0.51143765],\n",
       "        [0.52086425],\n",
       "        [0.5237389 ],\n",
       "        [0.52032983],\n",
       "        [0.51243967],\n",
       "        [0.50175714],\n",
       "        [0.49036902],\n",
       "        [0.47992697],\n",
       "        [0.47131813],\n",
       "        [0.46448272],\n",
       "        [0.45969763],\n",
       "        [0.45556182],\n",
       "        [0.45151365],\n",
       "        [0.44750535],\n",
       "        [0.4437994 ],\n",
       "        [0.4420432 ],\n",
       "        [0.443643  ],\n",
       "        [0.4484115 ],\n",
       "        [0.4561778 ],\n",
       "        [0.46683708],\n",
       "        [0.47865433],\n",
       "        [0.48813483],\n",
       "        [0.49648345],\n",
       "        [0.5099887 ],\n",
       "        [0.5278459 ],\n",
       "        [0.5421676 ],\n",
       "        [0.5486271 ],\n",
       "        [0.5521928 ],\n",
       "        [0.5579968 ],\n",
       "        [0.56564206],\n",
       "        [0.5767001 ],\n",
       "        [0.5932346 ],\n",
       "        [0.6131123 ],\n",
       "        [0.6405065 ],\n",
       "        [0.675848  ],\n",
       "        [0.704404  ],\n",
       "        [0.7141733 ],\n",
       "        [0.70825845],\n",
       "        [0.6927945 ],\n",
       "        [0.67436236],\n",
       "        [0.6553622 ],\n",
       "        [0.6354195 ],\n",
       "        [0.6148242 ],\n",
       "        [0.59598017],\n",
       "        [0.58219653],\n",
       "        [0.57537717],\n",
       "        [0.57518816],\n",
       "        [0.58167124],\n",
       "        [0.5941396 ],\n",
       "        [0.60957247],\n",
       "        [0.6285907 ],\n",
       "        [0.6580169 ],\n",
       "        [0.70218045]], dtype=float32),\n",
       " array([0.34525169, 0.37527239, 0.44085002, 0.42574015, 0.43633643,\n",
       "        0.46558615, 0.4671982 , 0.4773553 , 0.48923102, 0.4712847 ,\n",
       "        0.3812633 , 0.36320818, 0.4046011 , 0.41790622, 0.39562687,\n",
       "        0.39572993, 0.39069615, 0.41814813, 0.42140578, 0.41181169,\n",
       "        0.35593923, 0.37597055, 0.37749181, 0.3878945 , 0.37663198,\n",
       "        0.36909204, 0.33588338, 0.37884098, 0.36978883, 0.36534265,\n",
       "        0.35453545, 0.36122293, 0.39081448, 0.42787415, 0.39833314,\n",
       "        0.42561791, 0.42791087, 0.41508307, 0.4603723 , 0.50191328,\n",
       "        0.50212498, 0.50866088, 0.54478542, 0.62647441, 0.59284205,\n",
       "        0.57396164, 0.58228079, 0.65645838, 0.62819926, 0.65563073,\n",
       "        0.62994355, 0.62911178, 0.57540404, 0.48779578, 0.50022044,\n",
       "        0.49387435, 0.4694193 , 0.47411725, 0.45409945, 0.48285511,\n",
       "        0.49062901, 0.52010845, 0.49924906, 0.49831092, 0.50473424,\n",
       "        0.52661217, 0.52989862, 0.56280175, 0.55382675, 0.55614348,\n",
       "        0.61123034, 0.627092  , 0.59537915, 0.55591162, 0.55555439,\n",
       "        0.56952648, 0.55396585, 0.55546789, 0.55485052, 0.54252347,\n",
       "        0.51620219, 0.51696132, 0.48953814, 0.47670416, 0.50832386,\n",
       "        0.50989026, 0.51042804, 0.53701482, 0.54325188, 0.54560097,\n",
       "        0.56396033, 0.58956552, 0.54443518, 0.5639439 , 0.61333954,\n",
       "        0.65818014, 0.60836811, 0.62854478, 0.6136246 , 0.71261715,\n",
       "        0.70208583, 0.67828671, 0.74161072, 0.77565866, 0.79517164,\n",
       "        0.86062051, 0.84681536, 0.75964225, 0.724874  , 0.72427676,\n",
       "        0.71581731, 0.70188559, 0.66913579, 0.62263895, 0.62001068,\n",
       "        0.68634576, 0.72068615, 0.71727267, 0.7084816 , 0.75260564,\n",
       "        0.76896436, 0.74660408, 0.81905446, 0.84830667, 0.99653743]))"
      ]
     },
     "execution_count": 28,
     "metadata": {
      "tags": []
     },
     "output_type": "execute_result"
    }
   ],
   "source": [
    "y_pred = regressor.predict(X_test)\n",
    "y_pred, y_test"
   ]
  },
  {
   "cell_type": "code",
   "execution_count": 29,
   "metadata": {
    "colab": {
     "base_uri": "https://localhost:8080/"
    },
    "id": "uYMMHk9Dgc0c",
    "outputId": "7d8f0d67-6ffe-4bbf-ddea-c98d98b935dd"
   },
   "outputs": [
    {
     "data": {
      "text/plain": [
       "array([2.81186421e-03, 2.69013692e-03, 3.00890173e-03, 2.81843036e-03,\n",
       "       7.09086803e-11])"
      ]
     },
     "execution_count": 29,
     "metadata": {
      "tags": []
     },
     "output_type": "execute_result"
    }
   ],
   "source": [
    "scaler.scale_"
   ]
  },
  {
   "cell_type": "code",
   "execution_count": 30,
   "metadata": {
    "colab": {
     "base_uri": "https://localhost:8080/"
    },
    "id": "Kc-w0Pkyghe4",
    "outputId": "c368985b-9e32-4ae7-f951-bff8a8a0a20d"
   },
   "outputs": [
    {
     "data": {
      "text/plain": [
       "355.6359501442639"
      ]
     },
     "execution_count": 30,
     "metadata": {
      "tags": []
     },
     "output_type": "execute_result"
    }
   ],
   "source": [
    "scale = 1/2.81186421e-03\n",
    "scale"
   ]
  },
  {
   "cell_type": "code",
   "execution_count": 31,
   "metadata": {
    "id": "Bl8-ukAdgkm4"
   },
   "outputs": [],
   "source": [
    "y_test = y_test*scale\n",
    "y_pred = y_pred*scale"
   ]
  },
  {
   "cell_type": "code",
   "execution_count": 32,
   "metadata": {
    "colab": {
     "base_uri": "https://localhost:8080/"
    },
    "id": "_zdRtNIggt6M",
    "outputId": "1fa2b941-7d52-4c49-88cb-ba290c7e456f"
   },
   "outputs": [
    {
     "data": {
      "text/plain": [
       "array([[ 92.32554 ],\n",
       "       [ 91.90263 ],\n",
       "       [ 93.856964],\n",
       "       [ 98.9432  ],\n",
       "       [105.56362 ],\n",
       "       [112.45411 ],\n",
       "       [119.43817 ],\n",
       "       [126.38507 ],\n",
       "       [132.20772 ],\n",
       "       [136.6933  ],\n",
       "       [139.93803 ],\n",
       "       [140.63585 ],\n",
       "       [138.55046 ],\n",
       "       [134.53606 ],\n",
       "       [129.46284 ],\n",
       "       [124.04436 ],\n",
       "       [118.79821 ],\n",
       "       [114.408134],\n",
       "       [112.00037 ],\n",
       "       [111.982994],\n",
       "       [113.64952 ],\n",
       "       [115.832214],\n",
       "       [117.27404 ],\n",
       "       [117.56594 ],\n",
       "       [117.0786  ],\n",
       "       [116.10459 ],\n",
       "       [114.80821 ],\n",
       "       [113.380165],\n",
       "       [112.497345],\n",
       "       [111.97122 ],\n",
       "       [111.28514 ],\n",
       "       [110.395836],\n",
       "       [109.86815 ],\n",
       "       [110.53853 ],\n",
       "       [112.52251 ],\n",
       "       [115.39658 ],\n",
       "       [118.913765],\n",
       "       [122.22677 ],\n",
       "       [125.361404],\n",
       "       [129.02072 ],\n",
       "       [134.21228 ],\n",
       "       [139.86372 ],\n",
       "       [145.52518 ],\n",
       "       [152.97678 ],\n",
       "       [161.31151 ],\n",
       "       [168.80089 ],\n",
       "       [174.15111 ],\n",
       "       [177.81738 ],\n",
       "       [179.40643 ],\n",
       "       [179.60036 ],\n",
       "       [179.60754 ],\n",
       "       [179.9764  ],\n",
       "       [180.98886 ],\n",
       "       [181.91197 ],\n",
       "       [181.28458 ],\n",
       "       [179.05617 ],\n",
       "       [175.45164 ],\n",
       "       [170.65816 ],\n",
       "       [165.1914  ],\n",
       "       [159.58061 ],\n",
       "       [154.6362  ],\n",
       "       [151.4494  ],\n",
       "       [150.37077 ],\n",
       "       [150.84813 ],\n",
       "       [152.12543 ],\n",
       "       [153.78947 ],\n",
       "       [155.8114  ],\n",
       "       [158.61673 ],\n",
       "       [162.48903 ],\n",
       "       [166.59268 ],\n",
       "       [171.55594 ],\n",
       "       [177.0721  ],\n",
       "       [181.88562 ],\n",
       "       [185.23805 ],\n",
       "       [186.26039 ],\n",
       "       [185.048   ],\n",
       "       [182.24197 ],\n",
       "       [178.44289 ],\n",
       "       [174.39285 ],\n",
       "       [170.67929 ],\n",
       "       [167.61768 ],\n",
       "       [165.18675 ],\n",
       "       [163.485   ],\n",
       "       [162.01416 ],\n",
       "       [160.5745  ],\n",
       "       [159.149   ],\n",
       "       [157.83102 ],\n",
       "       [157.20645 ],\n",
       "       [157.7754  ],\n",
       "       [159.47125 ],\n",
       "       [162.23323 ],\n",
       "       [166.02405 ],\n",
       "       [170.22668 ],\n",
       "       [173.5983  ],\n",
       "       [176.56737 ],\n",
       "       [181.37033 ],\n",
       "       [187.721   ],\n",
       "       [192.8143  ],\n",
       "       [195.11151 ],\n",
       "       [196.37962 ],\n",
       "       [198.44373 ],\n",
       "       [201.16266 ],\n",
       "       [205.09529 ],\n",
       "       [210.97556 ],\n",
       "       [218.04477 ],\n",
       "       [227.78714 ],\n",
       "       [240.35585 ],\n",
       "       [250.51138 ],\n",
       "       [253.98572 ],\n",
       "       [251.88217 ],\n",
       "       [246.38263 ],\n",
       "       [239.8275  ],\n",
       "       [233.07036 ],\n",
       "       [225.97801 ],\n",
       "       [218.65358 ],\n",
       "       [211.95198 ],\n",
       "       [207.05002 ],\n",
       "       [204.6248  ],\n",
       "       [204.55759 ],\n",
       "       [206.8632  ],\n",
       "       [211.2974  ],\n",
       "       [216.78589 ],\n",
       "       [223.54945 ],\n",
       "       [234.01448 ],\n",
       "       [249.72061 ]], dtype=float32)"
      ]
     },
     "execution_count": 32,
     "metadata": {
      "tags": []
     },
     "output_type": "execute_result"
    }
   ],
   "source": [
    "y_pred"
   ]
  },
  {
   "cell_type": "code",
   "execution_count": 33,
   "metadata": {
    "colab": {
     "base_uri": "https://localhost:8080/"
    },
    "id": "e_oD1qnmgvZg",
    "outputId": "b8bcf741-dda4-48c7-ffc1-9cea0d65a424"
   },
   "outputs": [
    {
     "data": {
      "text/plain": [
       "array([122.78391405, 133.46035205, 156.78211406, 151.40850206,\n",
       "       155.17692006, 165.57917207, 166.15247507, 169.76470407,\n",
       "       173.98813807, 167.60578307, 135.59093706, 129.16988605,\n",
       "       143.89069506, 148.62247606, 140.69913706, 140.73578806,\n",
       "       138.94559706, 148.70850606, 149.86704406, 146.45504206,\n",
       "       126.58478705, 133.70864305, 134.24965805, 137.94922806,\n",
       "       133.94387205, 131.26240005, 119.45220405, 134.72947105,\n",
       "       131.51020205, 129.92898005, 126.08555005, 128.46386105,\n",
       "       138.98768006, 152.16742906, 141.66158506, 151.36503006,\n",
       "       152.18049006, 147.61846306, 163.72493907, 178.49840707,\n",
       "       178.57369407, 180.89809607, 193.74527908, 222.79682309,\n",
       "       210.83594709, 204.12139308, 207.07998108, 233.46019909,\n",
       "       223.41024209, 233.16585709, 224.03057309, 223.73476609,\n",
       "       204.63436308, 173.47771607, 177.89637207, 175.63947507,\n",
       "       166.94237707, 168.61313807, 161.49408907, 171.72063607,\n",
       "       174.48531507, 184.96926308, 177.55091307, 177.21727907,\n",
       "       179.50164207, 187.28222108, 188.45099808, 200.15253608,\n",
       "       196.96070308, 197.78461608, 217.37548209, 223.01645809,\n",
       "       211.73823009, 197.70215808, 197.57511308, 202.54409208,\n",
       "       197.01017208, 197.54435108, 197.32479308, 192.94085108,\n",
       "       183.58005707, 183.85003107, 174.09736107, 169.53313607,\n",
       "       180.77823807, 181.33530607, 181.52656007, 190.98177508,\n",
       "       193.19990008, 194.03531808, 200.56456908, 209.67069409,\n",
       "       193.62072208, 200.55872508, 218.12558909, 234.07251909,\n",
       "       216.35756909, 223.53312109, 218.22696909, 253.4322761 ,\n",
       "       249.6869601 , 241.2231391 , 263.74343311, 275.85210611,\n",
       "       282.79162011, 306.06759112, 301.15798412, 270.15609211,\n",
       "       257.7912541 , 257.5788521 , 254.5703681 , 249.6157471 ,\n",
       "       237.9687441 , 221.43279409, 220.49808709, 244.0892281 ,\n",
       "       256.3019051 , 255.0879461 , 251.9615271 , 267.65362011,\n",
       "       273.47136911, 265.51925111, 291.28521112, 301.68834912,\n",
       "       354.40453514])"
      ]
     },
     "execution_count": 33,
     "metadata": {
      "tags": []
     },
     "output_type": "execute_result"
    }
   ],
   "source": [
    "y_test"
   ]
  },
  {
   "cell_type": "code",
   "execution_count": 35,
   "metadata": {
    "colab": {
     "base_uri": "https://localhost:8080/",
     "height": 338
    },
    "id": "vjO75DDEgy0Q",
    "outputId": "d4aaa874-65cf-4a76-a1ef-cc4ce8666ce5"
   },
   "outputs": [
    {
     "data": {
      "image/png": "[encoded data removed]",
      "text/plain": [
       "<Figure size 1008x360 with 1 Axes>"
      ]
     },
     "metadata": {
      "needs_background": "light",
      "tags": []
     },
     "output_type": "display_data"
    }
   ],
   "source": [
    "plt.figure(figsize=(14,5))\n",
    "plt.plot(y_test, color = 'red', label = 'Real Litecoin Price')\n",
    "plt.plot(y_pred, color = 'green', label = 'Predicted Litecoin Price')\n",
    "plt.title('Litecoin Price Prediction using RNN-LSTM')\n",
    "plt.xlabel('Time')\n",
    "plt.ylabel('Price')\n",
    "plt.legend()\n",
    "plt.show()"
   ]
  },
  {
   "cell_type": "markdown",
   "metadata": {
    "id": "LYtiLGjvpDYY"
   },
   "source": [
    "## RNN model"
   ]
  },
  {
   "cell_type": "code",
   "execution_count": 38,
   "metadata": {
    "id": "Dv1eI09Ag190"
   },
   "outputs": [],
   "source": [
    "regressor_2 = Sequential()\n",
    "regressor_2.add(SimpleRNN(units = 50, activation = 'relu', return_sequences = True, input_shape = (X_train.shape[1], 5)))\n",
    "regressor_2.add(Dropout(0.2))"
   ]
  },
  {
   "cell_type": "code",
   "execution_count": 39,
   "metadata": {
    "id": "3ZMlnMtBlvIA"
   },
   "outputs": [],
   "source": [
    "regressor_2.add(SimpleRNN(units = 60, activation = 'relu', return_sequences = True))\n",
    "regressor_2.add(Dropout(0.3))\n",
    "\n",
    "regressor_2.add(SimpleRNN(units = 80, activation = 'relu', return_sequences = True))\n",
    "regressor_2.add(Dropout(0.4))\n",
    "\n",
    "regressor_2.add(SimpleRNN(units = 120, activation = 'relu'))\n",
    "regressor_2.add(Dropout(0.5))\n",
    "\n",
    "regressor_2.add(Dense(units =1))"
   ]
  },
  {
   "cell_type": "code",
   "execution_count": 40,
   "metadata": {
    "colab": {
     "base_uri": "https://localhost:8080/"
    },
    "id": "LnFe9DjemiWI",
    "outputId": "0aba5fd0-4139-435f-ed11-779c6a674f44"
   },
   "outputs": [
    {
     "name": "stdout",
     "output_type": "stream",
     "text": [
      "Model: \"sequential_3\"\n",
      "_________________________________________________________________\n",
      "Layer (type)                 Output Shape              Param #   \n",
      "=================================================================\n",
      "simple_rnn_4 (SimpleRNN)     (None, 60, 50)            2800      \n",
      "_________________________________________________________________\n",
      "dropout_7 (Dropout)          (None, 60, 50)            0         \n",
      "_________________________________________________________________\n",
      "simple_rnn_5 (SimpleRNN)     (None, 60, 60)            6660      \n",
      "_________________________________________________________________\n",
      "dropout_8 (Dropout)          (None, 60, 60)            0         \n",
      "_________________________________________________________________\n",
      "simple_rnn_6 (SimpleRNN)     (None, 60, 80)            11280     \n",
      "_________________________________________________________________\n",
      "dropout_9 (Dropout)          (None, 60, 80)            0         \n",
      "_________________________________________________________________\n",
      "simple_rnn_7 (SimpleRNN)     (None, 120)               24120     \n",
      "_________________________________________________________________\n",
      "dropout_10 (Dropout)         (None, 120)               0         \n",
      "_________________________________________________________________\n",
      "dense_2 (Dense)              (None, 1)                 121       \n",
      "=================================================================\n",
      "Total params: 44,981\n",
      "Trainable params: 44,981\n",
      "Non-trainable params: 0\n",
      "_________________________________________________________________\n"
     ]
    }
   ],
   "source": [
    "regressor_2.summary()"
   ]
  },
  {
   "cell_type": "code",
   "execution_count": 41,
   "metadata": {
    "id": "_D7xVn5dmoq0"
   },
   "outputs": [],
   "source": [
    "regressor_2.compile(optimizer = optimizer, loss = 'mean_squared_error')"
   ]
  },
  {
   "cell_type": "code",
   "execution_count": 42,
   "metadata": {
    "colab": {
     "base_uri": "https://localhost:8080/"
    },
    "id": "M7sbdsGKmxMI",
    "outputId": "2594c213-243c-4a26-cb2e-267b56c900c1"
   },
   "outputs": [
    {
     "name": "stdout",
     "output_type": "stream",
     "text": [
      "Epoch 1/20\n",
      "52/52 [==============================] - 13s 205ms/step - loss: 0.0906\n",
      "Epoch 2/20\n",
      "52/52 [==============================] - 11s 208ms/step - loss: 0.0059\n",
      "Epoch 3/20\n",
      "52/52 [==============================] - 11s 204ms/step - loss: 0.0039\n",
      "Epoch 4/20\n",
      "52/52 [==============================] - 11s 203ms/step - loss: 0.0043\n",
      "Epoch 5/20\n",
      "52/52 [==============================] - 11s 206ms/step - loss: 0.0057\n",
      "Epoch 6/20\n",
      "52/52 [==============================] - 11s 203ms/step - loss: 0.0033\n",
      "Epoch 7/20\n",
      "52/52 [==============================] - 10s 201ms/step - loss: 0.0039\n",
      "Epoch 8/20\n",
      "52/52 [==============================] - 10s 199ms/step - loss: 0.0039\n",
      "Epoch 9/20\n",
      "52/52 [==============================] - 11s 203ms/step - loss: 0.0031\n",
      "Epoch 10/20\n",
      "52/52 [==============================] - 11s 203ms/step - loss: 0.0029\n",
      "Epoch 11/20\n",
      "52/52 [==============================] - 11s 202ms/step - loss: 0.0027\n",
      "Epoch 12/20\n",
      "52/52 [==============================] - 10s 199ms/step - loss: 0.0027\n",
      "Epoch 13/20\n",
      "52/52 [==============================] - 10s 199ms/step - loss: 0.0018\n",
      "Epoch 14/20\n",
      "52/52 [==============================] - 10s 200ms/step - loss: 0.0024\n",
      "Epoch 15/20\n",
      "52/52 [==============================] - 10s 200ms/step - loss: 0.0016\n",
      "Epoch 16/20\n",
      "52/52 [==============================] - 10s 199ms/step - loss: 0.0016\n",
      "Epoch 17/20\n",
      "52/52 [==============================] - 11s 203ms/step - loss: 0.0019\n",
      "Epoch 18/20\n",
      "52/52 [==============================] - 10s 200ms/step - loss: 0.0022\n",
      "Epoch 19/20\n",
      "52/52 [==============================] - 10s 194ms/step - loss: 0.0024\n",
      "Epoch 20/20\n",
      "52/52 [==============================] - 10s 197ms/step - loss: 0.0020\n"
     ]
    },
    {
     "data": {
      "text/plain": [
       "<tensorflow.python.keras.callbacks.History at 0x7f88044874d0>"
      ]
     },
     "execution_count": 42,
     "metadata": {
      "tags": []
     },
     "output_type": "execute_result"
    }
   ],
   "source": [
    "regressor_2.fit(X_train, y_train, epochs = 20, batch_size =32)"
   ]
  },
  {
   "cell_type": "code",
   "execution_count": 43,
   "metadata": {
    "id": "fyEU_LQ0m1lY"
   },
   "outputs": [],
   "source": [
    "y_pred = regressor_2.predict(X_test)\n"
   ]
  },
  {
   "cell_type": "code",
   "execution_count": 45,
   "metadata": {
    "id": "cXh6aR2hoV0w"
   },
   "outputs": [],
   "source": [
    "y_pred = y_pred*scale"
   ]
  },
  {
   "cell_type": "code",
   "execution_count": 46,
   "metadata": {
    "colab": {
     "base_uri": "https://localhost:8080/",
     "height": 338
    },
    "id": "W646REx1obiY",
    "outputId": "245d113f-d721-4fff-feb1-a4fc4d4c2252"
   },
   "outputs": [
    {
     "data": {
      "image/png": "[encoded data removed]",
      "text/plain": [
       "<Figure size 1008x360 with 1 Axes>"
      ]
     },
     "metadata": {
      "needs_background": "light",
      "tags": []
     },
     "output_type": "display_data"
    }
   ],
   "source": [
    "plt.figure(figsize=(14,5))\n",
    "plt.plot(y_test, color = 'red', label = 'Real Litecoin Price')\n",
    "plt.plot(y_pred, color = 'green', label = 'Predicted Litecoin Price')\n",
    "plt.title('Litecoin Price Prediction using RNN-LSTM')\n",
    "plt.xlabel('Time')\n",
    "plt.ylabel('Price')\n",
    "plt.legend()\n",
    "plt.show()"
   ]
  },
  {
   "cell_type": "markdown",
   "metadata": {
    "id": "7FwBJ8u6olR0"
   },
   "source": [
    "## Conclusion\n",
    "\n",
    "In this report, two models were created for forecasting the litecoin cryptocurrency price; a Recurent neural network model and a Long Short-Term Memory model. For comparison reasons, the algorithms used the same hyperparameters and both were trained on 20 epochs.\n",
    "\n",
    "## Results\n",
    "\n",
    "By comparing the model summary for Simple RNN with the model summary for LSTM, it is evident that there are more trainable parameters for the LSTM (approximately 1:4 ratio for the LSTM), which explains why it took a longer time to train this model. \n",
    "\n",
    "Overall the plots show that the LSTM model performs a lot better, compared to the RNN, as it clearly captures the upward trend of the price.\n",
    "\n",
    "### Next Steps\n",
    "\n",
    "To improve the quality of forecasts over many time steps, we'd need to use more data and more sophisticated LSTM model structures. We could try training with more data and running more training epochs. An additional recommendation would be to change the hyperparameters to achieve even smaller losses. However, the loss of this simple LSTM model was only 0.019.\n"
   ]
  },
  {
   "cell_type": "code",
   "execution_count": null,
   "metadata": {
    "id": "1t68cBhqqXJU"
   },
   "outputs": [],
   "source": []
  }
 ],
 "metadata": {
  "accelerator": "GPU",
  "colab": {
   "collapsed_sections": [],
   "name": "LiteCrypto.ipynb",
   "provenance": []
  },
  "kernelspec": {
   "display_name": "Python 3",
   "language": "python",
   "name": "python3"
  },
  "language_info": {
   "codemirror_mode": {
    "name": "ipython",
    "version": 3
   },
   "file_extension": ".py",
   "mimetype": "text/x-python",
   "name": "python",
   "nbconvert_exporter": "python",
   "pygments_lexer": "ipython3",
   "version": "3.9.3"
  }
 },
 "nbformat": 4,
 "nbformat_minor": 1
}
